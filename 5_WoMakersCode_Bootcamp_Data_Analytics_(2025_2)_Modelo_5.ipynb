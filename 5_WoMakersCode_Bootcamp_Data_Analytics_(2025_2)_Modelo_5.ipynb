{
  "nbformat": 4,
  "nbformat_minor": 0,
  "metadata": {
    "colab": {
      "provenance": [],
      "include_colab_link": true
    },
    "kernelspec": {
      "name": "python3",
      "display_name": "Python 3"
    },
    "language_info": {
      "name": "python"
    }
  },
  "cells": [
    {
      "cell_type": "markdown",
      "metadata": {
        "id": "view-in-github",
        "colab_type": "text"
      },
      "source": [
        "<a href=\"https://colab.research.google.com/github/tatademarcelo/Azure/blob/main/5_WoMakersCode_Bootcamp_Data_Analytics_(2025_2)_Modelo_5.ipynb\" target=\"_parent\"><img src=\"https://colab.research.google.com/assets/colab-badge.svg\" alt=\"Open In Colab\"/></a>"
      ]
    },
    {
      "cell_type": "markdown",
      "source": [
        "DESAFIO 1\n",
        "\n",
        "Peça o tempo (em minutos) para correr 5 km e classifique:\n",
        "\n",
        "A: até 25 min → Atleta\n",
        "\n",
        "B: 26 a 35 min → Bom condicionamento\n",
        "\n",
        "C: 36 a 50 min → Regular\n",
        "\n",
        "D: Acima de 50 min → A melhorar"
      ],
      "metadata": {
        "id": "fZu819fMQNKI"
      }
    },
    {
      "cell_type": "code",
      "source": [
        "TEMPO = int(input('Digite o tempo (em minutos) para correr 5Km:'))\n",
        "if (TEMPO <= 25):\n",
        "    print ('Você é um atleta')\n",
        "elif (TEMPO >= 26) and (TEMPO <= 35):\n",
        "    print ('Você está em bom condicionamento')\n",
        "elif (TEMPO >= 36) and (TEMPO <= 50):\n",
        "    print ('tempo regular')\n",
        "elif (TEMPO > 50):\n",
        "    print ('treino a melhorar')"
      ],
      "metadata": {
        "id": "tjM2VWBwQSJE",
        "colab": {
          "base_uri": "https://localhost:8080/"
        },
        "outputId": "e814518d-f209-4e4f-a53c-d2157d1d947e"
      },
      "execution_count": 4,
      "outputs": [
        {
          "output_type": "stream",
          "name": "stdout",
          "text": [
            "Digite o tempo (em minutos) para correr 5Km:37\n",
            "tempo regular\n"
          ]
        }
      ]
    },
    {
      "cell_type": "markdown",
      "source": [
        "DESAFIO 2\n",
        "\n",
        "Peça duas strings e diga se elas são iguais, diferentes, ou se uma está contida dentro da outra."
      ],
      "metadata": {
        "id": "_m8mBod2g9Iv"
      }
    },
    {
      "cell_type": "code",
      "source": [
        "Texto1 = input('Digite a primeira string:')\n",
        "print (Texto1)\n",
        "Texto2 = input('Digite a segunda string:')\n",
        "print (Texto2)\n",
        "if Texto1 == Texto2:\n",
        "    print('strings iguais')\n",
        "else:\n",
        "    if Texto2 in Texto1:\n",
        "        print ('Texto2 está contida em texto1')\n",
        "    else:\n",
        "        print('string diferentes')"
      ],
      "metadata": {
        "id": "G3MkSdjIfMay",
        "colab": {
          "base_uri": "https://localhost:8080/"
        },
        "outputId": "5e4ff489-ff3d-41a7-e4c9-b47f695cc55b"
      },
      "execution_count": 7,
      "outputs": [
        {
          "output_type": "stream",
          "name": "stdout",
          "text": [
            "Digite a primeira string:Roberta\n",
            "Roberta\n",
            "Digite a segunda string:bert\n",
            "bert\n",
            "Texto2 está contida em texto1\n"
          ]
        }
      ]
    },
    {
      "cell_type": "markdown",
      "source": [
        "DESAFIO 3\n",
        "\n",
        "O computador sorteia um número par entre 2 e 100.\n",
        "\n",
        "O usuário deve adivinhar qual é, com dicas se o palpite está acima ou abaixo.\n"
      ],
      "metadata": {
        "id": "azEJl_Q6cFFz"
      }
    },
    {
      "cell_type": "code",
      "source": [
        "import random\n",
        "sorteio = random.randrange(2, 101, 2) # intervalo de 2 a 100, somente pares\n",
        "aposta = 0\n",
        "print ('qual número par foi sorteado, entre 2 e 100?')\n",
        "\n",
        "while True:\n",
        "\n",
        "    aposta += 1 #incremento das apostas\n",
        "    try:\n",
        "        advinha = int(input('tente advinhar o número do sorteado:'))\n",
        "    except ValueError:\n",
        "        print('digite um número inteiro')\n",
        "        continue\n",
        "    if advinha < sorteio:\n",
        "        print('número menor que o sorteado, tente novamente')\n",
        "    elif advinha > sorteio:\n",
        "        print('número maior que o sorteado, tente novamente')\n",
        "    else:\n",
        "        print(f'Parabéns! você acertou')\n",
        "        break"
      ],
      "metadata": {
        "id": "4kz8g_Z5qGB1",
        "colab": {
          "base_uri": "https://localhost:8080/"
        },
        "outputId": "3ccfbed8-9c08-4167-ab8f-d37bd8581248"
      },
      "execution_count": 10,
      "outputs": [
        {
          "output_type": "stream",
          "name": "stdout",
          "text": [
            "qual número par foi sorteado, entre 2 e 100?\n",
            "tente advinhar o número do sorteado:30\n",
            "número maior que o sorteado, tente novamente\n",
            "tente advinhar o número do sorteado:20\n",
            "número maior que o sorteado, tente novamente\n",
            "tente advinhar o número do sorteado:10\n",
            "número maior que o sorteado, tente novamente\n",
            "tente advinhar o número do sorteado:8\n",
            "número maior que o sorteado, tente novamente\n",
            "tente advinhar o número do sorteado:4\n",
            "Parabéns! você acertou\n"
          ]
        }
      ]
    },
    {
      "cell_type": "markdown",
      "source": [
        "DESAFIO 4\n",
        "\n",
        "Permita ao usuário fazer uma lista de compras interativa:\n",
        "\n",
        "Adicionar item (nome, quantidade)\n",
        "\n",
        "Ver lista de compras\n",
        "\n",
        "Marcar item como comprado\n",
        "\n",
        "Remover item da lista\n",
        "\n",
        "Sair"
      ],
      "metadata": {
        "id": "qk4Gw-GAqFjY"
      }
    },
    {
      "cell_type": "code",
      "source": [
        "lista_compras = [] #declaração de lista\n",
        "\n",
        "#funções\n",
        "def Itens_lista():\n",
        "    print(\"\\n===== Opções =====\")\n",
        "    print(\"1. Adicionar item\")\n",
        "    print(\"2. Ver lista de compras\")\n",
        "    print(\"3. Marcar item como comprado\")\n",
        "    print(\"4. Remover item da lista\")\n",
        "    print(\"5. Sair\")\n",
        "\n",
        "def adicionar_item():\n",
        "    nome = input('Item:')\n",
        "    quantidade = input('quantidade:')\n",
        "    lista_compras.append({'nome': nome, 'quantidade' : quantidade, 'comprado': False})\n",
        "    print (f'Item {nome} adicionado com sucesso!')\n",
        "\n",
        "def ver_lista():\n",
        "    print (\"*****LISTA DE COMPRAS*****\")\n",
        "    for I, item in enumerate(lista_compras, start=1):\n",
        "        situacao = 'comprado' if item[\"comprado\"] else 'pendente'\n",
        "        print(f\"{I}. {item['nome']} (Qtd: {item['quantidade']}) - {situacao}\")\n",
        "\n",
        "\n",
        "def marcar_comprado():\n",
        "    ver_lista()\n",
        "    try:\n",
        "        indice = int(input('Digite o número do item que deseja marcar como comprado: ')) - 1\n",
        "        if 0 <= indice < len(lista_compras):\n",
        "            lista_compras[indice]['comprado'] = True\n",
        "            print(f\"Item '{lista_compras[indice]['nome']}' marcado como comprado.\")\n",
        "        else:\n",
        "            print('Número inválido.')\n",
        "    except ValueError:\n",
        "        print('Digite um número válido.')\n",
        "\n",
        "def remover_item():\n",
        "    ver_lista()\n",
        "    try:\n",
        "        indice = int(input('Digite o número do item que deseja remover: ')) - 1\n",
        "        if 0 <= indice < len(lista_compras):\n",
        "            item_removido = lista_compras.pop(indice)\n",
        "            print(f\"Item '{item_removido['nome']}' removido da lista.\")\n",
        "        else:\n",
        "            print('Número inválido.')\n",
        "    except ValueError:\n",
        "        print('Digite um número válido.')\n",
        "\n",
        "# painel de opções\n",
        "while True:\n",
        "    Itens_lista()\n",
        "    opcao = input(\"Escolha uma opção (1 a 5): \")\n",
        "\n",
        "    if opcao == '1':\n",
        "        adicionar_item()\n",
        "    elif opcao == '2':\n",
        "        ver_lista()\n",
        "    elif opcao == '3':\n",
        "        marcar_comprado()\n",
        "    elif opcao == '4':\n",
        "        remover_item()\n",
        "    elif opcao == '5':\n",
        "        print('compras finalizadas')\n",
        "        break\n",
        "    else:\n",
        "        print('Opção inválida. Tente novamente.')"
      ],
      "metadata": {
        "id": "5CGGqzBpu4om",
        "outputId": "1fb9d4ab-57f9-48f1-c7d9-5b5204a06966",
        "colab": {
          "base_uri": "https://localhost:8080/",
          "height": 1000
        }
      },
      "execution_count": 2,
      "outputs": [
        {
          "output_type": "stream",
          "name": "stdout",
          "text": [
            "\n",
            "===== Opções =====\n",
            "1. Adicionar item\n",
            "2. Ver lista de compras\n",
            "3. Marcar item como comprado\n",
            "4. Remover item da lista\n",
            "5. Sair\n",
            "Escolha uma opção (1 a 5): 1\n",
            "Item:sabao\n",
            "quantidade:2\n",
            "Item sabao adicionado com sucesso!\n",
            "\n",
            "===== Opções =====\n",
            "1. Adicionar item\n",
            "2. Ver lista de compras\n",
            "3. Marcar item como comprado\n",
            "4. Remover item da lista\n",
            "5. Sair\n",
            "Escolha uma opção (1 a 5): 1\n",
            "Item:arroz\n",
            "quantidade:2\n",
            "Item arroz adicionado com sucesso!\n",
            "\n",
            "===== Opções =====\n",
            "1. Adicionar item\n",
            "2. Ver lista de compras\n",
            "3. Marcar item como comprado\n",
            "4. Remover item da lista\n",
            "5. Sair\n",
            "Escolha uma opção (1 a 5): 2\n",
            "*****LISTA DE COMPRAS*****\n",
            "1. sabao (Qtd: 2) - pendente\n",
            "2. arroz (Qtd: 2) - pendente\n",
            "\n",
            "===== Opções =====\n",
            "1. Adicionar item\n",
            "2. Ver lista de compras\n",
            "3. Marcar item como comprado\n",
            "4. Remover item da lista\n",
            "5. Sair\n",
            "Escolha uma opção (1 a 5): 3\n",
            "*****LISTA DE COMPRAS*****\n",
            "1. sabao (Qtd: 2) - pendente\n",
            "2. arroz (Qtd: 2) - pendente\n",
            "Digite o número do item que deseja marcar como comprado: 2\n",
            "Item 'arroz' marcado como comprado.\n",
            "\n",
            "===== Opções =====\n",
            "1. Adicionar item\n",
            "2. Ver lista de compras\n",
            "3. Marcar item como comprado\n",
            "4. Remover item da lista\n",
            "5. Sair\n",
            "Escolha uma opção (1 a 5): 2\n",
            "*****LISTA DE COMPRAS*****\n",
            "1. sabao (Qtd: 2) - pendente\n",
            "2. arroz (Qtd: 2) - comprado\n",
            "\n",
            "===== Opções =====\n",
            "1. Adicionar item\n",
            "2. Ver lista de compras\n",
            "3. Marcar item como comprado\n",
            "4. Remover item da lista\n",
            "5. Sair\n"
          ]
        },
        {
          "output_type": "error",
          "ename": "KeyboardInterrupt",
          "evalue": "Interrupted by user",
          "traceback": [
            "\u001b[0;31m---------------------------------------------------------------------------\u001b[0m",
            "\u001b[0;31mKeyboardInterrupt\u001b[0m                         Traceback (most recent call last)",
            "\u001b[0;32m/tmp/ipython-input-2-3701996651.py\u001b[0m in \u001b[0;36m<cell line: 0>\u001b[0;34m()\u001b[0m\n\u001b[1;32m     50\u001b[0m \u001b[0;32mwhile\u001b[0m \u001b[0;32mTrue\u001b[0m\u001b[0;34m:\u001b[0m\u001b[0;34m\u001b[0m\u001b[0;34m\u001b[0m\u001b[0m\n\u001b[1;32m     51\u001b[0m     \u001b[0mItens_lista\u001b[0m\u001b[0;34m(\u001b[0m\u001b[0;34m)\u001b[0m\u001b[0;34m\u001b[0m\u001b[0;34m\u001b[0m\u001b[0m\n\u001b[0;32m---> 52\u001b[0;31m     \u001b[0mopcao\u001b[0m \u001b[0;34m=\u001b[0m \u001b[0minput\u001b[0m\u001b[0;34m(\u001b[0m\u001b[0;34m'Escolha uma opção (1 a 5): '\u001b[0m\u001b[0;34m)\u001b[0m\u001b[0;34m\u001b[0m\u001b[0;34m\u001b[0m\u001b[0m\n\u001b[0m\u001b[1;32m     53\u001b[0m \u001b[0;34m\u001b[0m\u001b[0m\n\u001b[1;32m     54\u001b[0m     \u001b[0;32mif\u001b[0m \u001b[0mopcao\u001b[0m \u001b[0;34m==\u001b[0m \u001b[0;34m'1'\u001b[0m\u001b[0;34m:\u001b[0m\u001b[0;34m\u001b[0m\u001b[0;34m\u001b[0m\u001b[0m\n",
            "\u001b[0;32m/usr/local/lib/python3.11/dist-packages/ipykernel/kernelbase.py\u001b[0m in \u001b[0;36mraw_input\u001b[0;34m(self, prompt)\u001b[0m\n\u001b[1;32m   1175\u001b[0m                 \u001b[0;34m\"raw_input was called, but this frontend does not support input requests.\"\u001b[0m\u001b[0;34m\u001b[0m\u001b[0;34m\u001b[0m\u001b[0m\n\u001b[1;32m   1176\u001b[0m             )\n\u001b[0;32m-> 1177\u001b[0;31m         return self._input_request(\n\u001b[0m\u001b[1;32m   1178\u001b[0m             \u001b[0mstr\u001b[0m\u001b[0;34m(\u001b[0m\u001b[0mprompt\u001b[0m\u001b[0;34m)\u001b[0m\u001b[0;34m,\u001b[0m\u001b[0;34m\u001b[0m\u001b[0;34m\u001b[0m\u001b[0m\n\u001b[1;32m   1179\u001b[0m             \u001b[0mself\u001b[0m\u001b[0;34m.\u001b[0m\u001b[0m_parent_ident\u001b[0m\u001b[0;34m[\u001b[0m\u001b[0;34m\"shell\"\u001b[0m\u001b[0;34m]\u001b[0m\u001b[0;34m,\u001b[0m\u001b[0;34m\u001b[0m\u001b[0;34m\u001b[0m\u001b[0m\n",
            "\u001b[0;32m/usr/local/lib/python3.11/dist-packages/ipykernel/kernelbase.py\u001b[0m in \u001b[0;36m_input_request\u001b[0;34m(self, prompt, ident, parent, password)\u001b[0m\n\u001b[1;32m   1217\u001b[0m             \u001b[0;32mexcept\u001b[0m \u001b[0mKeyboardInterrupt\u001b[0m\u001b[0;34m:\u001b[0m\u001b[0;34m\u001b[0m\u001b[0;34m\u001b[0m\u001b[0m\n\u001b[1;32m   1218\u001b[0m                 \u001b[0;31m# re-raise KeyboardInterrupt, to truncate traceback\u001b[0m\u001b[0;34m\u001b[0m\u001b[0;34m\u001b[0m\u001b[0m\n\u001b[0;32m-> 1219\u001b[0;31m                 \u001b[0;32mraise\u001b[0m \u001b[0mKeyboardInterrupt\u001b[0m\u001b[0;34m(\u001b[0m\u001b[0;34m\"Interrupted by user\"\u001b[0m\u001b[0;34m)\u001b[0m \u001b[0;32mfrom\u001b[0m \u001b[0;32mNone\u001b[0m\u001b[0;34m\u001b[0m\u001b[0;34m\u001b[0m\u001b[0m\n\u001b[0m\u001b[1;32m   1220\u001b[0m             \u001b[0;32mexcept\u001b[0m \u001b[0mException\u001b[0m\u001b[0;34m:\u001b[0m\u001b[0;34m\u001b[0m\u001b[0;34m\u001b[0m\u001b[0m\n\u001b[1;32m   1221\u001b[0m                 \u001b[0mself\u001b[0m\u001b[0;34m.\u001b[0m\u001b[0mlog\u001b[0m\u001b[0;34m.\u001b[0m\u001b[0mwarning\u001b[0m\u001b[0;34m(\u001b[0m\u001b[0;34m\"Invalid Message:\"\u001b[0m\u001b[0;34m,\u001b[0m \u001b[0mexc_info\u001b[0m\u001b[0;34m=\u001b[0m\u001b[0;32mTrue\u001b[0m\u001b[0;34m)\u001b[0m\u001b[0;34m\u001b[0m\u001b[0;34m\u001b[0m\u001b[0m\n",
            "\u001b[0;31mKeyboardInterrupt\u001b[0m: Interrupted by user"
          ]
        }
      ]
    },
    {
      "cell_type": "markdown",
      "source": [
        "DESAFIO 5\n",
        "\n",
        "Peça ao usuário o salário e o tempo de casa (em anos).\n",
        "Se o funcionário tiver mais de 5 anos, recebe 10% de bônus; senão, recebe 5%.\n",
        "\n",
        "Mostre o valor do bônus e o novo salário."
      ],
      "metadata": {
        "id": "cpVCv8m5QNm9"
      }
    },
    {
      "cell_type": "code",
      "source": [
        "print('****bem vindo ao portal de reajuste salarial!****')\n",
        "salario = float(input('Digite seu salário atual:'))\n",
        "senior = int(input('Há quantos anos está conosco?'))\n",
        "\n",
        "if senior > 5:\n",
        "    bonus = float(salario*10)/100\n",
        "    reajuste = salario+bonus\n",
        "    print(f'PARABENNNNNS você acaba de receber um bonus de R$ {bonus:.2f}. Seu Salário Novo é R$ {reajuste:.2f}.')\n",
        "\n",
        "else:\n",
        "    bonus = float(salario*5)/100\n",
        "    reajuste = salario+bonus\n",
        "    print(f'PARABENNNNNS você acaba de receber um bonus de R$ {bonus:.2f}. Seu Salário Novo é R$ {reajuste:.2f}.')"
      ],
      "metadata": {
        "id": "rGHbvDFVcGzy",
        "colab": {
          "base_uri": "https://localhost:8080/"
        },
        "outputId": "245a8752-26e0-4611-8795-9d1f2889fad4"
      },
      "execution_count": 15,
      "outputs": [
        {
          "output_type": "stream",
          "name": "stdout",
          "text": [
            "****bem vindo ao portal de reajuste salarial!****\n",
            "Digite seu salário atual:100\n",
            "Há quantos anos está conosco?4\n",
            "PARABENNNNNS você acaba de receber um bonus de R$ 5.00. Seu Salário Novo é R$ 105.00.\n"
          ]
        }
      ]
    }
  ]
}